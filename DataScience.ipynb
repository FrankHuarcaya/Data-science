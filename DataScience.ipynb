{
  "nbformat": 4,
  "nbformat_minor": 0,
  "metadata": {
    "colab": {
      "provenance": []
    },
    "kernelspec": {
      "name": "python3",
      "display_name": "Python 3"
    },
    "language_info": {
      "name": "python"
    }
  },
  "cells": [
    {
      "cell_type": "markdown",
      "source": [
        "# Data Science Foundation"
      ],
      "metadata": {
        "id": "shkzwtkSaQA_"
      }
    },
    {
      "cell_type": "markdown",
      "source": [
        "## Introducción\n",
        "\n",
        "En este cuaderno exploraremos conceptos básicos y avanzados relacionados con Data Science. A través de ejercicios prácticos, aprenderemos a procesar datos, realizar análisis estadísticos y construir modelos de machine learning.\n"
      ],
      "metadata": {
        "id": "1tihC_TfasVA"
      }
    },
    {
      "cell_type": "markdown",
      "source": [
        "## Lenguajes de Ciencia de Datos\n",
        "\n",
        "A continuación, se enumeran los principales lenguajes utilizados en la ciencia de datos:\n",
        "\n",
        "1. Python\n",
        "2. Ruby\n",
        "3. SQL\n",
        "4. Julia\n",
        "5. Scala\n",
        "6. MATLAB"
      ],
      "metadata": {
        "id": "vPpU8kYTb3Jo"
      }
    },
    {
      "cell_type": "markdown",
      "source": [
        "## Bibliotecas de Ciencia de Datos\n",
        "\n",
        "A continuación, se enumeran algunas bibliotecas populares para la ciencia de datos:\n",
        "\n",
        "### Python\n",
        "- **NumPy:** Manipulación de arrays y operaciones matemáticas.\n",
        "- **Pandas:** Análisis y manipulación de datos estructurados.\n",
        "- **Matplotlib:** Visualización de datos.\n",
        "- **Seaborn:** Visualización estadística basada en Matplotlib.\n",
        "- **Scikit-learn:** Machine Learning.\n",
        "- **TensorFlow y PyTorch:** Deep Learning.\n",
        "\n",
        "### R\n",
        "- **ggplot2:** Visualización de datos.\n",
        "- **dplyr:** Manipulación de datos.\n",
        "- **caret:** Machine Learning.\n",
        "- **shiny:** Creación de aplicaciones web interactivas."
      ],
      "metadata": {
        "id": "FtbIFwZncU0p"
      }
    },
    {
      "cell_type": "markdown",
      "source": [
        "## Herramientas de Ciencia de Datos\n",
        "\n",
        "A continuación, se presenta una tabla con algunas herramientas comunes en ciencia de datos:\n",
        "\n",
        "| Herramienta       | Descripción                                  | Uso Principal            |\n",
        "|--------------------|----------------------------------------------|--------------------------|\n",
        "| Jupyter Notebook   | Entorno interactivo para análisis y visualización de datos. | Análisis y prototipos    |\n",
        "| RStudio            | IDE para trabajar con R.                     | Estadística y visualización |\n",
        "| Google Colab       | Versión basada en la nube de Jupyter.        | Machine Learning y colaboración |\n",
        "| Tableau            | Software de visualización de datos.         | Creación de dashboards   |\n",
        "| Apache Hadoop      | Marco para procesamiento distribuido de grandes datos. | Big Data                 |\n",
        "| Apache Spark       | Herramienta de computación en clústeres.    | Procesamiento en tiempo real y análisis |\n"
      ],
      "metadata": {
        "id": "2SeNn97EcpIQ"
      }
    },
    {
      "cell_type": "markdown",
      "source": [
        "## Ejemplos de Expresiones Aritméticas\n",
        "\n",
        "A continuación, se presentan algunos ejemplos básicos de expresiones aritméticas:\n",
        "\n",
        "- **Suma:** \\(5 + 3 = 8\\)\n",
        "- **Resta:** \\(10 - 4 = 6\\)\n",
        "- **Multiplicación:** \\(7 \\times 3 = 21\\)\n",
        "- **División:** \\(\\frac{20}{4} = 5\\)\n",
        "- **Potencia:** \\(2^3 = 8\\)\n",
        "- **Módulo:** \\(10 \\mod 3 = 1\\)"
      ],
      "metadata": {
        "id": "HQVnDdE-dF9J"
      }
    },
    {
      "cell_type": "code",
      "source": [
        "# Operaciones básicas: suma y multiplicación\n",
        "# Suma\n",
        "suma = 5 + 7\n",
        "print(\"La suma de 5 y 7 es:\", suma)\n",
        "\n",
        "# Multiplicación\n",
        "multiplicacion = 3 * 4\n",
        "print(\"La multiplicación de 3 y 4 es:\", multiplicacion)"
      ],
      "metadata": {
        "colab": {
          "base_uri": "https://localhost:8080/"
        },
        "id": "lGFZbhJbdieb",
        "outputId": "c799bad6-e8e1-4ae4-d290-0869417851cd"
      },
      "execution_count": 1,
      "outputs": [
        {
          "output_type": "stream",
          "name": "stdout",
          "text": [
            "La suma de 5 y 7 es: 12\n",
            "La multiplicación de 3 y 4 es: 12\n"
          ]
        }
      ]
    },
    {
      "cell_type": "code",
      "source": [
        "# Convertir minutos a horas\n",
        "minutos = 150\n",
        "horas = minutos / 60\n",
        "\n",
        "print(f\"{minutos} minutos equivalen a {horas:.2f} horas.\")"
      ],
      "metadata": {
        "colab": {
          "base_uri": "https://localhost:8080/"
        },
        "id": "lIPgbbW1d0uw",
        "outputId": "1663a6ab-3c2e-42fe-e9b6-d8cd8568cb14"
      },
      "execution_count": 2,
      "outputs": [
        {
          "output_type": "stream",
          "name": "stdout",
          "text": [
            "150 minutos equivalen a 2.50 horas.\n"
          ]
        }
      ]
    },
    {
      "cell_type": "code",
      "source": [
        "# Lista de objetivos\n",
        "objetivos = [\n",
        "    \"Aprender conceptos básicos de ciencia de datos.\",\n",
        "    \"Familiarizarse con herramientas y bibliotecas comunes.\",\n",
        "    \"Practicar operaciones aritméticas básicas en Python.\",\n",
        "    \"Entender cómo usar Markdown en Google Colab.\",\n",
        "    \"Aplicar el conocimiento para resolver problemas prácticos.\"\n",
        "]\n",
        "\n",
        "print(\"Lista de Objetivos:\")\n",
        "for i, objetivo in enumerate(objetivos, start=1):\n",
        "    print(f\"{i}. {objetivo}\")"
      ],
      "metadata": {
        "colab": {
          "base_uri": "https://localhost:8080/"
        },
        "id": "OL6-vFjXeJ3J",
        "outputId": "96c35ebf-c5b0-4cdf-c927-71348ddc4f9f"
      },
      "execution_count": 3,
      "outputs": [
        {
          "output_type": "stream",
          "name": "stdout",
          "text": [
            "Lista de Objetivos:\n",
            "1. Aprender conceptos básicos de ciencia de datos.\n",
            "2. Familiarizarse con herramientas y bibliotecas comunes.\n",
            "3. Practicar operaciones aritméticas básicas en Python.\n",
            "4. Entender cómo usar Markdown en Google Colab.\n",
            "5. Aplicar el conocimiento para resolver problemas prácticos.\n"
          ]
        }
      ]
    },
    {
      "cell_type": "markdown",
      "source": [
        "## Autor\n",
        "\n",
        "Este cuaderno fue elaborado por:\n",
        "\n",
        "**Nombre del Autor:Susan huarcaya ilizarbe"
      ],
      "metadata": {
        "id": "tpS30KCcegRp"
      }
    }
  ]
}